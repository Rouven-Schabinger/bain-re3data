{
 "cells": [
  {
   "cell_type": "markdown",
   "metadata": {},
   "source": [
    "## Use case: aggregating current API information and general information about repositories\n",
    "\n",
    "“As a research data portal, it is important for us to know which repositories offer an API. We would like to aggregate API information, such as API endpoint, API type and general information about the repository.”\n",
    "\n",
    "### Step 1: load packages\n",
    "\n",
    "The package **httr** includes the HTTP method GET, which will be used to request data from the re3data API. Responses from the re3data API are returned in XML. **xml2** includes functions for working with XML, for example parsing or extracting content of specific elements. **dplyr** offers useful functions for data manipulation. **ggplot2** is a package for data visualization.\n",
    "\n",
    "If necessary, install the packages before loading them."
   ]
  },
  {
   "cell_type": "code",
   "execution_count": 9,
   "metadata": {},
   "outputs": [],
   "source": [
    "#install.packages(\"htttr\")\n",
    "#install.packages(\"xml2\")\n",
    "#install.packages(\"dplyr\")\n",
    "#install.packages(\"ggplot2\")\n",
    "library(httr)\n",
    "library(xml2)\n",
    "library(dplyr)\n",
    "library(ggplot2)"
   ]
  },
  {
   "cell_type": "markdown",
   "metadata": {},
   "source": [
    "### Step 2: obtain URLs for further API queries\n",
    "\n",
    "Information on individual repositories can be extracted using the re3data ID. Therefore, re3data IDs of all repositories indexed in re3data need to be identified first, using the endpoint **/api/v1/repositories**. Details of the re3data APIs are outlined in the [re3data API documentation](https://www.re3data.org/api/doc).\n",
    "\n",
    "The endpoint is queried using **GET**. The XML response is parsed using **read_XML**. XML elements or attributes can be identified using XPath syntax. All elements matching the XPath syntax for finding re3data IDs are identified with **xml_find_all**, and their content is extracted using **xml_text**. The three functions are nested in the example below.\n",
    "\n",
    "The endpoint **/api/v1/repository** provides detailed information about individual repositories that can be accessed via re3data IDs. Therefore, URLs for the next query are created by adding re3data IDs to the base URL."
   ]
  },
  {
   "cell_type": "code",
   "execution_count": 10,
   "metadata": {},
   "outputs": [],
   "source": [
    "re3data_request <- GET(\"http://re3data.org/api/v1/repositories\")\n",
    "re3data_IDs <- xml_text(xml_find_all(read_xml(re3data_request), xpath = \"//id\"))\n",
    "URLs <- paste(\"https://www.re3data.org/api/v1/repository/\", re3data_IDs, sep = \"\")"
   ]
  },
  {
   "cell_type": "markdown",
   "metadata": {},
   "source": [
    "### Step 3: define what information about the repositories should be requested\n",
    "\n",
    "The function **extract\\_repository\\_info** defined in the following code block points to and extracts the content of specific XML elements and attributes. This function will be used later to extract the specified information from responses of the re3data API. Its basic structure is similar to the process of extracting the URLs outlined in step 2 above.\n",
    "\n",
    "In our Metadata schema, **api** (the API endpoint) is an element with the attribute **apiType**. Please note that one repository can offer multiple APIs, and even several API types.\n",
    "\n",
    "The XPath expressions defined here will extract the re3data IDs, names, URLs, API endpoints and API types in their specific order (using the parameter *API_index*). Results are stored in a named list that can be processed later. Depending on specific use cases, this function can be adapted to extract a different set of elements and attributes. For an overview of the metadata re3data offers, please refer to the documentation of the [re3data Metadata Schema](https://doi.org/10.2312/re3.006) (the API uses version 2.2 of the re3data Metadata Schema).\n",
    "\n",
    "The function **xml_structure** from the package **xml2** can be very useful for inspecting the structure of XML objects and specifying XPath expressions."
   ]
  },
  {
   "cell_type": "code",
   "execution_count": 11,
   "metadata": {},
   "outputs": [],
   "source": [
    "extract_repository_info <- function(url, API_index) {\n",
    "  list(\n",
    "   re3data_ID = xml_text(xml_find_all(repository_metadata_XML, \"//r3d:re3data.orgIdentifier\")),\n",
    "    repositoryName = xml_text(xml_find_all(repository_metadata_XML, \"//r3d:repositoryName\")),\n",
    "    repositoryUrl = xml_text(xml_find_all(repository_metadata_XML, \"//r3d:repositoryURL\")),\n",
    "    api = paste(unique(xml_text(xml_find_all(repository_metadata_XML,paste0(\"//r3d:api\", \"[\", as.character(API_index), \"]\"))))),\n",
    "    apiType = paste(unique(xml_text(xml_find_all(repository_metadata_XML,paste0(\"//r3d:api\", \"[\", as.character(API_index), \"]\", \"/@apiType\")))))\n",
    "  )\n",
    "}"
   ]
  },
  {
   "cell_type": "markdown",
   "metadata": {},
   "source": [
    "### Step 4: create a container for storing results\n",
    "\n",
    "**repository_info** is a container for storing results of the API query. The dataframe has five columns corresponding to names of the list items defined by **extract_repository_info**."
   ]
  },
  {
   "cell_type": "code",
   "execution_count": 12,
   "metadata": {},
   "outputs": [],
   "source": [
    "repository_info <- data.frame(matrix(ncol = 5, nrow = 0))\n",
    "\n",
    "colnames(repository_info) <- c(\"re3data_ID\", \"repositoryName\", \"repositoryUrl\", \"api\", \"apiType\")"
   ]
  },
  {
   "cell_type": "markdown",
   "metadata": {},
   "source": [
    "### Step 5: gather detailed information about repositories\n",
    "\n",
    "After preparing the list of URLs, the extracting function and the container for results, these components can be put together. The code block below iterates through the list of URLs using a for-loop. For each repository, data is requested from the re3data API using **GET**. The XML response is parsed with **read_xml**. An Xpath expression is used to count how often the element *api* occurs for each repository. If *APICount* is larger than 0, the function **extract_repository_info** is called. The results are then appended as a new row to **repository_info**."
   ]
  },
  {
   "cell_type": "code",
   "execution_count": 13,
   "metadata": {},
   "outputs": [],
   "source": [
    "for (url in URLs) {\n",
    "  repository_metadata_request <- GET(url)\n",
    "  repository_metadata_XML <-read_xml(repository_metadata_request) \n",
    "  API_count <- length(paste(unique(xml_text(xml_find_all(repository_metadata_XML, \"//r3d:api\")))))\n",
    "  if(API_count > 0){\n",
    "    for(i in c(1:API_count)){\n",
    "      results_list <- extract_repository_info(repository_metadata_XML, i)\n",
    "      repository_info <- rbind(repository_info, results_list)    \n",
    "    }}else next\n",
    "  \n",
    "}"
   ]
  },
  {
   "cell_type": "markdown",
   "metadata": {},
   "source": [
    "### Step 6: Look at the results\n",
    "\n",
    "Results are now stored in **repository_info**. They can be inspected using **head** or visualized.\n",
    "\n",
    "The example below first groups data by **apiType** and counts how many repositories are in each group, then orders **apiType** by occurrence in descending order. Then, a bar chart of APIs offered by repositories indexed in re3data is generated.\n",
    "Please note that, as mentioned above, **apiType** has an occurrence of 1-n. Some repositories are assigned more than one API type, for example REST and OAI-PMH."
   ]
  },
  {
   "cell_type": "code",
   "execution_count": 14,
   "metadata": {},
   "outputs": [
    {
     "data": {
      "text/html": [
       "<table class=\"dataframe\">\n",
       "<caption>A data.frame: 6 × 5</caption>\n",
       "<thead>\n",
       "\t<tr><th></th><th scope=col>re3data_ID</th><th scope=col>repositoryName</th><th scope=col>repositoryUrl</th><th scope=col>api</th><th scope=col>apiType</th></tr>\n",
       "\t<tr><th></th><th scope=col>&lt;chr&gt;</th><th scope=col>&lt;chr&gt;</th><th scope=col>&lt;chr&gt;</th><th scope=col>&lt;chr&gt;</th><th scope=col>&lt;chr&gt;</th></tr>\n",
       "</thead>\n",
       "<tbody>\n",
       "\t<tr><th scope=row>1</th><td>r3d100000002</td><td>Access to Archival Databases</td><td>https://aad.archives.gov/aad/        </td><td>https://www.archives.gov/developer#toc-application-programming-interfaces-apis-</td><td>other  </td></tr>\n",
       "\t<tr><th scope=row>2</th><td>r3d100000005</td><td>UNC Dataverse               </td><td>https://dataverse.unc.edu/           </td><td>https://guides.dataverse.org/en/latest/api/native-api.html                     </td><td>REST   </td></tr>\n",
       "\t<tr><th scope=row>3</th><td>r3d100000005</td><td>UNC Dataverse               </td><td>https://dataverse.unc.edu/           </td><td>https://guides.dataverse.org/en/latest/api/sword.html                          </td><td>SWORD  </td></tr>\n",
       "\t<tr><th scope=row>4</th><td>r3d100000006</td><td>Archaeology Data Service    </td><td>https://archaeologydataservice.ac.uk/</td><td>https://archaeologydataservice.ac.uk/about/endpoints.xhtml                     </td><td>OAI-PMH</td></tr>\n",
       "\t<tr><th scope=row>5</th><td>r3d100000006</td><td>Archaeology Data Service    </td><td>https://archaeologydataservice.ac.uk/</td><td>http://data.archaeologydataservice.ac.uk/query/                                </td><td>SPARQL </td></tr>\n",
       "\t<tr><th scope=row>6</th><td>r3d100000011</td><td>The CEDA Archive            </td><td>http://archive.ceda.ac.uk/           </td><td>https://help.ceda.ac.uk/article/280-ftp                                        </td><td>FTP    </td></tr>\n",
       "</tbody>\n",
       "</table>\n"
      ],
      "text/latex": [
       "A data.frame: 6 × 5\n",
       "\\begin{tabular}{r|lllll}\n",
       "  & re3data\\_ID & repositoryName & repositoryUrl & api & apiType\\\\\n",
       "  & <chr> & <chr> & <chr> & <chr> & <chr>\\\\\n",
       "\\hline\n",
       "\t1 & r3d100000002 & Access to Archival Databases & https://aad.archives.gov/aad/         & https://www.archives.gov/developer\\#toc-application-programming-interfaces-apis- & other  \\\\\n",
       "\t2 & r3d100000005 & UNC Dataverse                & https://dataverse.unc.edu/            & https://guides.dataverse.org/en/latest/api/native-api.html                      & REST   \\\\\n",
       "\t3 & r3d100000005 & UNC Dataverse                & https://dataverse.unc.edu/            & https://guides.dataverse.org/en/latest/api/sword.html                           & SWORD  \\\\\n",
       "\t4 & r3d100000006 & Archaeology Data Service     & https://archaeologydataservice.ac.uk/ & https://archaeologydataservice.ac.uk/about/endpoints.xhtml                      & OAI-PMH\\\\\n",
       "\t5 & r3d100000006 & Archaeology Data Service     & https://archaeologydataservice.ac.uk/ & http://data.archaeologydataservice.ac.uk/query/                                 & SPARQL \\\\\n",
       "\t6 & r3d100000011 & The CEDA Archive             & http://archive.ceda.ac.uk/            & https://help.ceda.ac.uk/article/280-ftp                                         & FTP    \\\\\n",
       "\\end{tabular}\n"
      ],
      "text/markdown": [
       "\n",
       "A data.frame: 6 × 5\n",
       "\n",
       "| <!--/--> | re3data_ID &lt;chr&gt; | repositoryName &lt;chr&gt; | repositoryUrl &lt;chr&gt; | api &lt;chr&gt; | apiType &lt;chr&gt; |\n",
       "|---|---|---|---|---|---|\n",
       "| 1 | r3d100000002 | Access to Archival Databases | https://aad.archives.gov/aad/         | https://www.archives.gov/developer#toc-application-programming-interfaces-apis- | other   |\n",
       "| 2 | r3d100000005 | UNC Dataverse                | https://dataverse.unc.edu/            | https://guides.dataverse.org/en/latest/api/native-api.html                      | REST    |\n",
       "| 3 | r3d100000005 | UNC Dataverse                | https://dataverse.unc.edu/            | https://guides.dataverse.org/en/latest/api/sword.html                           | SWORD   |\n",
       "| 4 | r3d100000006 | Archaeology Data Service     | https://archaeologydataservice.ac.uk/ | https://archaeologydataservice.ac.uk/about/endpoints.xhtml                      | OAI-PMH |\n",
       "| 5 | r3d100000006 | Archaeology Data Service     | https://archaeologydataservice.ac.uk/ | http://data.archaeologydataservice.ac.uk/query/                                 | SPARQL  |\n",
       "| 6 | r3d100000011 | The CEDA Archive             | http://archive.ceda.ac.uk/            | https://help.ceda.ac.uk/article/280-ftp                                         | FTP     |\n",
       "\n"
      ],
      "text/plain": [
       "  re3data_ID   repositoryName              \n",
       "1 r3d100000002 Access to Archival Databases\n",
       "2 r3d100000005 UNC Dataverse               \n",
       "3 r3d100000005 UNC Dataverse               \n",
       "4 r3d100000006 Archaeology Data Service    \n",
       "5 r3d100000006 Archaeology Data Service    \n",
       "6 r3d100000011 The CEDA Archive            \n",
       "  repositoryUrl                        \n",
       "1 https://aad.archives.gov/aad/        \n",
       "2 https://dataverse.unc.edu/           \n",
       "3 https://dataverse.unc.edu/           \n",
       "4 https://archaeologydataservice.ac.uk/\n",
       "5 https://archaeologydataservice.ac.uk/\n",
       "6 http://archive.ceda.ac.uk/           \n",
       "  api                                                                            \n",
       "1 https://www.archives.gov/developer#toc-application-programming-interfaces-apis-\n",
       "2 https://guides.dataverse.org/en/latest/api/native-api.html                     \n",
       "3 https://guides.dataverse.org/en/latest/api/sword.html                          \n",
       "4 https://archaeologydataservice.ac.uk/about/endpoints.xhtml                     \n",
       "5 http://data.archaeologydataservice.ac.uk/query/                                \n",
       "6 https://help.ceda.ac.uk/article/280-ftp                                        \n",
       "  apiType\n",
       "1 other  \n",
       "2 REST   \n",
       "3 SWORD  \n",
       "4 OAI-PMH\n",
       "5 SPARQL \n",
       "6 FTP    "
      ]
     },
     "metadata": {},
     "output_type": "display_data"
    },
    {
     "data": {
      "image/png": "[encoded data removed]",
      "text/plain": [
       "plot without title"
      ]
     },
     "metadata": {
      "image/png": {
       "height": 420,
       "width": 420
      }
     },
     "output_type": "display_data"
    }
   ],
   "source": [
    "head(repository_info)\n",
    "\n",
    "repository_info %>%\n",
    "  group_by(apiType) %>%\n",
    "  summarise(type_count = n()) %>%\n",
    "  ggplot(aes(x = reorder(apiType, -type_count), y = type_count, fill = apiType)) +\n",
    "  geom_col() +\n",
    "  geom_text(aes(label = type_count), position = position_dodge(width = 1),vjust = -0.2)+\n",
    "  theme(axis.title = element_blank(),\n",
    "        axis.text = element_text(size = 10),\n",
    "        legend.position = \"bottom\",\n",
    "        legend.title = element_text(size = 10))"
   ]
  },
  {
   "cell_type": "code",
   "execution_count": null,
   "metadata": {},
   "outputs": [],
   "source": []
  }
 ],
 "metadata": {
  "kernelspec": {
   "display_name": "R",
   "language": "R",
   "name": "ir"
  },
  "language_info": {
   "codemirror_mode": "r",
   "file_extension": ".r",
   "mimetype": "text/x-r-source",
   "name": "R",
   "pygments_lexer": "r",
   "version": "4.0.4"
  }
 },
 "nbformat": 4,
 "nbformat_minor": 4
}
