{
 "cells": [
  {
   "cell_type": "markdown",
   "metadata": {},
   "source": [
    "## Use case 2: Distribution of certificates across repository types (Python)\n",
    "\n",
    "> This notebook is based on the examples written in `R` from Dorothea Strecker's [examples-r/02_re3data_API_certification_by_type.ipynb](https://github.com/re3data/using_the_re3data_API/blob/main/examples-r/02_re3data_API_certification_by_type.ipynb).  \n",
    "> Adapted in `Python` by Heinz-Alexander Fütterer.\n",
    "\n",
    "Observants of the repository landscape are interested in conducting a multivariate analysis of certification status and type of research data repositories.\n",
    "\n",
    "Research data repositories are diverse. The re3data Metadata Schema tries to account for that, resulting in rich and detailed metadata that can be accessed via the re3data API.\n",
    "\n",
    "### Step 1: load packages\n",
    "\n",
    "The package `httpx` includes the HTTP method GET, which will be used to request data from the re3data API. Responses from the redata API are returned in XML. `lxml` includes functions for working with XML, for example parsing or extracting content of specific elements. The `pandas` library is used for storing the responses in a tabular data structure (i.e. a `DataFrame`). It offers useful functions for data manipulation and reshaping as well. `seaborn` is a package for beautiful data visualization.\n",
    "\n",
    "If necessary, install the packages before loading them."
   ]
  },
  {
   "cell_type": "code",
   "execution_count": 1,
   "metadata": {},
   "outputs": [],
   "source": [
    "# !pip install httpx==0.23.0 lxml==4.8.0 pandas==1.4.2 seaborn==0.11.2"
   ]
  },
  {
   "cell_type": "code",
   "execution_count": 2,
   "metadata": {},
   "outputs": [],
   "source": [
    "import datetime\n",
    "import typing\n",
    "\n",
    "import httpx\n",
    "import pandas\n",
    "import seaborn\n",
    "from lxml import html\n",
    "\n",
    "seaborn.set_style(\"whitegrid\")"
   ]
  },
  {
   "cell_type": "markdown",
   "metadata": {},
   "source": [
    "### Step 2: obtain re3data IDs of all repositories indexed in re3data\n",
    "\n",
    "Information on individual repositories can be extracted using the re3data ID. Therefore, re3data IDs of all repositories indexed in re3data need to be identified first, using the endpoint **/api/v1/repositories**. Details of the re3data APIs are outlined in the [re3data API documentaion](https://www.re3data.org/api/doc).\n",
    "\n",
    "The endpoint is queried using `httpx.get()`. The XML response is parsed using `html.fromstring()`. XML elements or attributes can be identified using XPath syntax. All elements matching the XPath syntax for finding re3data urls are extracted with `.xpath()`. The three functions are nested in the example below.\n",
    "\n",
    "The endpoint **/api/beta/repository** provides detailed information about individual repositories that can be accessed via re3data IDs. Therefore, URLs for the next query are collected."
   ]
  },
  {
   "cell_type": "code",
   "execution_count": 3,
   "metadata": {},
   "outputs": [
    {
     "name": "stdout",
     "output_type": "stream",
     "text": [
      "2872\n"
     ]
    },
    {
     "data": {
      "text/plain": [
       "['https://www.re3data.org/api/beta/repository/r3d100010141',\n",
       " 'https://www.re3data.org/api/beta/repository/r3d100010148',\n",
       " 'https://www.re3data.org/api/beta/repository/r3d100010153',\n",
       " 'https://www.re3data.org/api/beta/repository/r3d100010201',\n",
       " 'https://www.re3data.org/api/beta/repository/r3d100010209']"
      ]
     },
     "execution_count": 3,
     "metadata": {},
     "output_type": "execute_result"
    }
   ],
   "source": [
    "URL = \"https://www.re3data.org/api/beta/repositories\"\n",
    "\n",
    "re3data_response = httpx.get(URL, timeout=60)\n",
    "tree = html.fromstring(re3data_response.content)\n",
    "urls = tree.xpath(\"//@href\")\n",
    "print(len(urls))\n",
    "\n",
    "urls[:5]"
   ]
  },
  {
   "cell_type": "markdown",
   "metadata": {},
   "source": [
    "### Step 3: define what information about the repositories should be requested\n",
    "\n",
    "The function `extract_repository_info()` defined in the following code block points to and extracts the content of specific XML elements and attributes. This function will be used later to extract the spedified information from responses of the re3data API. Its basic structure is similar to the process of extracting the URLs outlined in step 2 above.  \n",
    "The XPath expressions defined here will extract the re3data IDs, certificates, and types of the repositories. According to version 2.2 of the [re3data Metadata Schema](https://doi.org/10.2312/re3.006) used by the API, **type** and **certificate** have an occurence of 1-n and 0-n, respectively. This means that the elements can occur multiple times. For this reason, all occurrences of these elements are stored in a list. These lists can be separated for the analysis later. In this and similar cases, extracting the re3data ID is particularly important, as it can serve as an ID column in the analysis. Results are stored in a dictionary.\n",
    "\n",
    "Depending on specific use cases, this function can be adapted to extract a different set of elements and attributes. For an overview of the metadata re3data offers, please refer to the documentation of the [re3data Metadata Schema](https://doi.org/10.2312/re3.006)."
   ]
  },
  {
   "cell_type": "code",
   "execution_count": 4,
   "metadata": {},
   "outputs": [],
   "source": [
    "def extract_repository_info(\n",
    "    repository_metadata_xml: html.HtmlElement,\n",
    ") -> typing.Dict[str, typing.Any]:\n",
    "    \"\"\"Extracts wanted metadata elements from a given repository metadata xml representation.\n",
    "\n",
    "    Args:\n",
    "        repository_metadata_xml: XML representation of repository metadata.\n",
    "\n",
    "    Returns:\n",
    "        Dictionary representation of repository metadata.\n",
    "\n",
    "    \"\"\"\n",
    "\n",
    "    namespaces = {\"r3d\": \"http://www.re3data.org/schema/2-2\"}\n",
    "    return {\n",
    "        \"re3data_id\": repository_metadata_xml.xpath(\"//re3data.orgidentifier/text()\", namespaces=namespaces)[0],\n",
    "        \"type\": repository_metadata_xml.xpath(\"//type/text()\", namespaces=namespaces),\n",
    "        \"certificate\": repository_metadata_xml.xpath(\"//certificate/text()\", namespaces=namespaces),\n",
    "    }"
   ]
  },
  {
   "cell_type": "markdown",
   "metadata": {},
   "source": [
    "### Step 4: gather detailed information about repositories\n",
    "\n",
    "After preparing the list of URLs and the extracting function, these components can be put together. The code block below iterates through the list of URLs using a for-loop. For each repository, data is requested from the re3data API using `.get()` from a `httpx.Client`. The XML response is parsed with `html.fromstring()` before `extract_repository_info()` is called. The results are then appended to `results_list`.\n",
    "\n",
    "Because these steps are repeated for all repositories indexed in re3data, the process will take a while (~ 5 minutes).\n",
    "\n",
    "`repository_info` is a container for storing results of the API query. The DataFrame has four columns corresponding to names of the list items defined by `extract_repository_info()`."
   ]
  },
  {
   "cell_type": "code",
   "execution_count": 5,
   "metadata": {},
   "outputs": [
    {
     "data": {
      "text/html": [
       "<div>\n",
       "<style scoped>\n",
       "    .dataframe tbody tr th:only-of-type {\n",
       "        vertical-align: middle;\n",
       "    }\n",
       "\n",
       "    .dataframe tbody tr th {\n",
       "        vertical-align: top;\n",
       "    }\n",
       "\n",
       "    .dataframe thead th {\n",
       "        text-align: right;\n",
       "    }\n",
       "</style>\n",
       "<table border=\"1\" class=\"dataframe\">\n",
       "  <thead>\n",
       "    <tr style=\"text-align: right;\">\n",
       "      <th></th>\n",
       "      <th>re3data_id</th>\n",
       "      <th>type</th>\n",
       "      <th>certificate</th>\n",
       "    </tr>\n",
       "  </thead>\n",
       "  <tbody>\n",
       "    <tr>\n",
       "      <th>0</th>\n",
       "      <td>r3d100010141</td>\n",
       "      <td>[disciplinary, institutional]</td>\n",
       "      <td>[]</td>\n",
       "    </tr>\n",
       "    <tr>\n",
       "      <th>1</th>\n",
       "      <td>r3d100010148</td>\n",
       "      <td>[disciplinary, institutional]</td>\n",
       "      <td>[]</td>\n",
       "    </tr>\n",
       "    <tr>\n",
       "      <th>2</th>\n",
       "      <td>r3d100010153</td>\n",
       "      <td>[disciplinary]</td>\n",
       "      <td>[]</td>\n",
       "    </tr>\n",
       "    <tr>\n",
       "      <th>3</th>\n",
       "      <td>r3d100010201</td>\n",
       "      <td>[disciplinary, institutional]</td>\n",
       "      <td>[RatSWD]</td>\n",
       "    </tr>\n",
       "    <tr>\n",
       "      <th>4</th>\n",
       "      <td>r3d100010209</td>\n",
       "      <td>[disciplinary]</td>\n",
       "      <td>[]</td>\n",
       "    </tr>\n",
       "  </tbody>\n",
       "</table>\n",
       "</div>"
      ],
      "text/plain": [
       "     re3data_id                           type certificate\n",
       "0  r3d100010141  [disciplinary, institutional]          []\n",
       "1  r3d100010148  [disciplinary, institutional]          []\n",
       "2  r3d100010153                 [disciplinary]          []\n",
       "3  r3d100010201  [disciplinary, institutional]    [RatSWD]\n",
       "4  r3d100010209                 [disciplinary]          []"
      ]
     },
     "execution_count": 5,
     "metadata": {},
     "output_type": "execute_result"
    }
   ],
   "source": [
    "results = []\n",
    "\n",
    "with httpx.Client() as client:\n",
    "    for i, url in enumerate(urls):\n",
    "        # Uncomment to see progress, every 100th url is printed\n",
    "        # if i % 100 == 0:\n",
    "        #     print(url)\n",
    "\n",
    "        repository_metadata_response = client.get(url, follow_redirects=True)\n",
    "        repository_metadata_xml = html.fromstring(repository_metadata_response.content)\n",
    "        results.append(extract_repository_info(repository_metadata_xml))\n",
    "\n",
    "repository_info = pandas.DataFrame(results)\n",
    "repository_info.head()"
   ]
  },
  {
   "cell_type": "markdown",
   "metadata": {},
   "source": [
    "### Step 5: process the results\n",
    "\n",
    "The first line in the code block below uses the method `.astype(bool)` on the column **certificate**, resulting in a new column indicating whether a repository received at least one certificate (`True`) or not (`False`).\n",
    "\n",
    "The results can be stored locally with `.to_csv()`. Columns containing values in lists (e.g. **type**) in the column type are separated with `.explode()`, creating new rows if a repository was assigned multiple values. The resulting dataframe follows the specifications of [tidy data](http://dx.doi.org/10.18637/jss.v059.i10), a \"standard way of mapping the meaning of a dataset to its structure\". Tidy dataframes are often easier to understand and work with.\n",
    "\n",
    "Although this introduces duplication - multiple rows can now correspond to the same repository - the re3data IDs can be used to deduplicate results at any time."
   ]
  },
  {
   "cell_type": "code",
   "execution_count": 6,
   "metadata": {},
   "outputs": [
    {
     "data": {
      "text/html": [
       "<div>\n",
       "<style scoped>\n",
       "    .dataframe tbody tr th:only-of-type {\n",
       "        vertical-align: middle;\n",
       "    }\n",
       "\n",
       "    .dataframe tbody tr th {\n",
       "        vertical-align: top;\n",
       "    }\n",
       "\n",
       "    .dataframe thead th {\n",
       "        text-align: right;\n",
       "    }\n",
       "</style>\n",
       "<table border=\"1\" class=\"dataframe\">\n",
       "  <thead>\n",
       "    <tr style=\"text-align: right;\">\n",
       "      <th></th>\n",
       "      <th>re3data_id</th>\n",
       "      <th>type</th>\n",
       "      <th>certification_status</th>\n",
       "    </tr>\n",
       "  </thead>\n",
       "  <tbody>\n",
       "    <tr>\n",
       "      <th>688</th>\n",
       "      <td>r3d100000001</td>\n",
       "      <td>disciplinary</td>\n",
       "      <td>True</td>\n",
       "    </tr>\n",
       "    <tr>\n",
       "      <th>1207</th>\n",
       "      <td>r3d100000002</td>\n",
       "      <td>disciplinary</td>\n",
       "      <td>False</td>\n",
       "    </tr>\n",
       "    <tr>\n",
       "      <th>1383</th>\n",
       "      <td>r3d100000004</td>\n",
       "      <td>disciplinary</td>\n",
       "      <td>True</td>\n",
       "    </tr>\n",
       "    <tr>\n",
       "      <th>2703</th>\n",
       "      <td>r3d100000005</td>\n",
       "      <td>institutional</td>\n",
       "      <td>False</td>\n",
       "    </tr>\n",
       "    <tr>\n",
       "      <th>2191</th>\n",
       "      <td>r3d100000006</td>\n",
       "      <td>disciplinary</td>\n",
       "      <td>True</td>\n",
       "    </tr>\n",
       "    <tr>\n",
       "      <th>639</th>\n",
       "      <td>r3d100000007</td>\n",
       "      <td>institutional</td>\n",
       "      <td>False</td>\n",
       "    </tr>\n",
       "    <tr>\n",
       "      <th>639</th>\n",
       "      <td>r3d100000007</td>\n",
       "      <td>disciplinary</td>\n",
       "      <td>False</td>\n",
       "    </tr>\n",
       "    <tr>\n",
       "      <th>1590</th>\n",
       "      <td>r3d100000011</td>\n",
       "      <td>disciplinary</td>\n",
       "      <td>True</td>\n",
       "    </tr>\n",
       "    <tr>\n",
       "      <th>1015</th>\n",
       "      <td>r3d100000012</td>\n",
       "      <td>disciplinary</td>\n",
       "      <td>True</td>\n",
       "    </tr>\n",
       "    <tr>\n",
       "      <th>2336</th>\n",
       "      <td>r3d100000013</td>\n",
       "      <td>other</td>\n",
       "      <td>False</td>\n",
       "    </tr>\n",
       "  </tbody>\n",
       "</table>\n",
       "</div>"
      ],
      "text/plain": [
       "        re3data_id           type  certification_status\n",
       "688   r3d100000001   disciplinary                  True\n",
       "1207  r3d100000002   disciplinary                 False\n",
       "1383  r3d100000004   disciplinary                  True\n",
       "2703  r3d100000005  institutional                 False\n",
       "2191  r3d100000006   disciplinary                  True\n",
       "639   r3d100000007  institutional                 False\n",
       "639   r3d100000007   disciplinary                 False\n",
       "1590  r3d100000011   disciplinary                  True\n",
       "1015  r3d100000012   disciplinary                  True\n",
       "2336  r3d100000013          other                 False"
      ]
     },
     "execution_count": 6,
     "metadata": {},
     "output_type": "execute_result"
    }
   ],
   "source": [
    "repository_info[\"certification_status\"] = repository_info[\"certificate\"].astype(bool)\n",
    "repository_info.drop(\"certificate\", axis=1, inplace=True)\n",
    "\n",
    "repository_info = repository_info.explode(\"type\")\n",
    "repository_info[\"type\"] = repository_info[\"type\"].astype(\"category\")\n",
    "\n",
    "repository_info.drop_duplicates(inplace=True)\n",
    "repository_info.sort_values(by=\"re3data_id\", inplace=True)\n",
    "repository_info.head(10)"
   ]
  },
  {
   "cell_type": "markdown",
   "metadata": {},
   "source": [
    "### Step 6: visualize the results\n",
    "\n",
    "Now that the results are processed, they can be visualized. The example below generates a `seaborn.catplot` showing the prevalence of (any) certification by repository type.  \n",
    "Please note that, as mentioned above, **type** has an occurence of 1-n. Some repositories are assigned more than one type, for example *institutional* and *other*."
   ]
  },
  {
   "cell_type": "code",
   "execution_count": 7,
   "metadata": {},
   "outputs": [
    {
     "data": {
      "image/png": "[encoded data removed]",
      "text/plain": [
       "<Figure size 463.5x360 with 1 Axes>"
      ]
     },
     "metadata": {
      "needs_background": "light"
     },
     "output_type": "display_data"
    }
   ],
   "source": [
    "# color scheme for the plot\n",
    "colors = [\"#17C3B2\", \"#227C9D\"]\n",
    "\n",
    "# generate plot\n",
    "grid = seaborn.catplot(x=\"type\", hue=\"certification_status\", data=repository_info, kind=\"count\", palette=colors)\n",
    "\n",
    "# annotate counts for each bar\n",
    "for ax in grid.axes.flat:\n",
    "    for container in ax.containers:\n",
    "        ax.bar_label(container)\n",
    "\n",
    "today = datetime.date.today()\n",
    "num_repositories = len(repository_info[\"re3data_id\"].unique())\n",
    "\n",
    "# add title\n",
    "grid.set(\n",
    "    title=f\"Certification status per repository type for re3data repositories [number of repositories: {num_repositories}, {today}]\"\n",
    ");"
   ]
  }
 ],
 "metadata": {
  "language_info": {
   "name": "python"
  }
 },
 "nbformat": 4,
 "nbformat_minor": 4
}
