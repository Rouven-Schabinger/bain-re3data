{
 "cells": [
  {
   "cell_type": "markdown",
   "metadata": {},
   "source": [
    "## Use case 1: Identify and collect information about repositories catering to the medical research community (Python)\n",
    "\n",
    "> This notebook is based on the examples written in `R` from Dorothea Strecker's [examples-r/01_re3data_API_medical_research_community.ipynb](https://github.com/re3data/using_the_re3data_API/blob/main/examples-r/01_re3data_API_medical_research_community.ipynb).  \n",
    "> Adapted in `Python` by Heinz-Alexander Fütterer.\n",
    "\n",
    "Medical researchers are looking for a suitable repository to deposit their data. They require a repository catering to medical research that offers data upload and assigns DOIs to datasets.\n",
    "\n",
    "Repositories meeting these specifications can be identified via the re3data API. The API also provides the option to retrieve further information about these repositories, such as the name of the repository or a description.\n",
    "\n",
    "### Step 1: load packages\n",
    "\n",
    "The package `httpx` includes the HTTP method GET, which will be used to request data from the re3data API. Responses from the redata API are returned in XML. `lxml` includes functions for working with XML, for example parsing or extracting content of specific elements. The `pandas` library is used for storing the responses in a tabular data structure (i.e. a `DataFrame`).\n",
    "\n",
    "If necessary, install the packages before loading them."
   ]
  },
  {
   "cell_type": "code",
   "execution_count": 1,
   "metadata": {},
   "outputs": [],
   "source": [
    "# !pip install httpx==0.23.0 lxml==4.8.0 pandas==1.4.2"
   ]
  },
  {
   "cell_type": "code",
   "execution_count": 2,
   "metadata": {},
   "outputs": [],
   "source": [
    "import typing\n",
    "\n",
    "import httpx\n",
    "import pandas\n",
    "from lxml import html"
   ]
  },
  {
   "cell_type": "markdown",
   "metadata": {},
   "source": [
    "### Step 2: define query parameters\n",
    "\n",
    "Information on individual repositories can be extracted using the re3data ID. Therefore, re3data IDs of repositories with the desired characteristics need to be identified first.\n",
    "\n",
    "The re3data API allows querying via the endpoint **/api/beta/repositories**. Parameters that can be queried are listed in the [re3data API documentaion](https://www.re3data.org/api/doc). For more information on re3data metadata, including descriptions of available elements and controlled vocabularies, please refer to the documentation of the [re3data Metadata Schema](https://doi.org/10.2312/re3.006) (the API uses version 2.2 of the re3data Metadata Schema).  \n",
    "The query below returns re3data IDs of repositories meeting the following conditions:\n",
    "\n",
    "* **\"subjects[]\" = \"205 Medicine\"** The repository caters to the subject *Medicine*, notation 205 in the DFG Subject Classification, the subject classification used by re3data.\n",
    "* **\"dataUploads[]\"=\"open\"** The repository allows data upload.\n",
    "* **\"pidSystems[]\"=\"DOI\"** The repository assigns DOIs."
   ]
  },
  {
   "cell_type": "code",
   "execution_count": 3,
   "metadata": {},
   "outputs": [],
   "source": [
    "re3data_query = {\n",
    "    \"subjects[]\": \"205 Medicine\",\n",
    "    \"dataUploads[]\": \"open\",\n",
    "    \"pidSystems[]\": \"DOI\",\n",
    "}"
   ]
  },
  {
   "cell_type": "markdown",
   "metadata": {},
   "source": [
    "### Step 3: obtain URLs for further API queries\n",
    "\n",
    "The query parameters defined in the previous step can then be passed to the re3data API using `httpx.get()`.\n",
    "\n",
    "The XML response is parsed using `html.fromstring()`. XML elements or attributes can be identified using XPath syntax. The response from the re3data API includes URLs for further queries to the **/api/beta/repository** endpoint. These URLs can be identified with a simple XPath expression. All attributes matching the XPath syntax are identified with `.xpath()`.\n",
    "\n",
    "The three functions are nested in the example below."
   ]
  },
  {
   "cell_type": "code",
   "execution_count": 4,
   "metadata": {},
   "outputs": [
    {
     "data": {
      "text/plain": [
       "['https://www.re3data.org/api/beta/repository/r3d100012823',\n",
       " 'https://www.re3data.org/api/beta/repository/r3d100010953',\n",
       " 'https://www.re3data.org/api/beta/repository/r3d100012815',\n",
       " 'https://www.re3data.org/api/beta/repository/r3d100010261',\n",
       " 'https://www.re3data.org/api/beta/repository/r3d100012074']"
      ]
     },
     "execution_count": 4,
     "metadata": {},
     "output_type": "execute_result"
    }
   ],
   "source": [
    "URL = \"https://www.re3data.org/api/beta/repositories\"\n",
    "\n",
    "re3data_response = httpx.get(URL, params=re3data_query)\n",
    "urls = html.fromstring(re3data_response.content).xpath(\"//@href\")\n",
    "\n",
    "urls[:5]"
   ]
  },
  {
   "cell_type": "markdown",
   "metadata": {},
   "source": [
    "### Step 4: define what information about the repositories should be requested\n",
    "\n",
    "The function `extract_repository_info()` defined in the following code block extracts the content of specific XML elements and attributes. This function will be used to extract the specified information from responses of the re3data API. Its basic structure is similar to the process of extracting the URLs outlined in step 3 above.\n",
    "The XPath expressions defined here will extract the re3data IDs, names, URLs, and descriptions of the repositories. Results are stored in a dictionary that can be processed later.\n",
    "\n",
    "Depending on specific use cases, this function can be adapted to extract a different set of elements and attributes. For an overview of the metadata re3data offers, please refer to the documentation of the [re3data Metadata Schema](https://doi.org/10.2312/re3.006) (the API uses version 2.2 of the re3data Metadata Schema).\n",
    "    \n",
    "Please note that in version 2.2 of the re3data Metadata Schema, the elements mentioned here have occurences of 1 or 0-1, meaning that for each repository, they occur once at most. For information on how to deal with elements that can occur multiple times, please refer to other examples for using the re3data API."
   ]
  },
  {
   "cell_type": "code",
   "execution_count": 5,
   "metadata": {},
   "outputs": [],
   "source": [
    "def extract_repository_info(\n",
    "    repository_metadata_xml: html.HtmlElement,\n",
    ") -> typing.Dict[str, str]:\n",
    "    \"\"\"Extracts wanted metadata elements from a given repository metadata xml representation.\n",
    "\n",
    "    Args:\n",
    "        repository_metadata_xml: XML representation of repository metadata.\n",
    "\n",
    "    Returns:\n",
    "        Dictionary representation of repository metadata.\n",
    "\n",
    "    \"\"\"\n",
    "\n",
    "    namespaces = {\"r3d\": \"http://www.re3data.org/schema/2-2\"}\n",
    "    return {\n",
    "        \"re3data_id\": repository_metadata_xml.xpath(\"//re3data.orgidentifier/text()\", namespaces=namespaces)[0],\n",
    "        \"name\": repository_metadata_xml.xpath(\"//repositoryname/text()\", namespaces=namespaces)[0],\n",
    "        \"url\": repository_metadata_xml.xpath(\"//repositoryurl/text()\", namespaces=namespaces)[0],\n",
    "        \"description\": repository_metadata_xml.xpath(\"//description/text()\", namespaces=namespaces)[0],\n",
    "    }"
   ]
  },
  {
   "cell_type": "markdown",
   "metadata": {},
   "source": [
    "### Step 5: gather detailed information about repositories\n",
    "\n",
    "After preparing the list of URLs and the extracting function, these components can be put together. The code block below iterates through the list of URLs using a for-loop. For each repository, data is requested from the re3data API using `.get()` from a `httpx.Client`. The XML response is parsed with `html.fromstring()` before `extract_repository_info()` is called. The results are then appended to `results_list`.\n",
    "\n",
    "`repository_info` is a container for storing results of the API query. The DataFrame has four columns corresponding to names of the list items defined by `extract_repository_info()`."
   ]
  },
  {
   "cell_type": "code",
   "execution_count": 6,
   "metadata": {},
   "outputs": [],
   "source": [
    "results = []\n",
    "\n",
    "with httpx.Client() as client:\n",
    "    for url in urls:\n",
    "        repository_metadata_response = client.get(url)\n",
    "        repository_metadata_xml = html.fromstring(repository_metadata_response.content)\n",
    "        results.append(extract_repository_info(repository_metadata_xml))\n",
    "\n",
    "repository_info = pandas.DataFrame(results)"
   ]
  },
  {
   "cell_type": "markdown",
   "metadata": {},
   "source": [
    "### Step 6: Look at the results\n",
    "\n",
    "Results are now stored in `repository_info`. They can be inspected using `.head()`, visualized or stored locally with `.to_csv()`."
   ]
  },
  {
   "cell_type": "code",
   "execution_count": 7,
   "metadata": {},
   "outputs": [
    {
     "data": {
      "text/html": [
       "<div>\n",
       "<style scoped>\n",
       "    .dataframe tbody tr th:only-of-type {\n",
       "        vertical-align: middle;\n",
       "    }\n",
       "\n",
       "    .dataframe tbody tr th {\n",
       "        vertical-align: top;\n",
       "    }\n",
       "\n",
       "    .dataframe thead th {\n",
       "        text-align: right;\n",
       "    }\n",
       "</style>\n",
       "<table border=\"1\" class=\"dataframe\">\n",
       "  <thead>\n",
       "    <tr style=\"text-align: right;\">\n",
       "      <th></th>\n",
       "      <th>re3data_id</th>\n",
       "      <th>name</th>\n",
       "      <th>url</th>\n",
       "      <th>description</th>\n",
       "    </tr>\n",
       "  </thead>\n",
       "  <tbody>\n",
       "    <tr>\n",
       "      <th>0</th>\n",
       "      <td>r3d100012823</td>\n",
       "      <td>Vivli</td>\n",
       "      <td>https://vivli.org/</td>\n",
       "      <td>Vivli is a non-profit organization working to ...</td>\n",
       "    </tr>\n",
       "    <tr>\n",
       "      <th>1</th>\n",
       "      <td>r3d100010953</td>\n",
       "      <td>Polar Data Catalogue</td>\n",
       "      <td>https://www.polardata.ca/</td>\n",
       "      <td>The Polar Data Catalogue is an online database...</td>\n",
       "    </tr>\n",
       "    <tr>\n",
       "      <th>2</th>\n",
       "      <td>r3d100012815</td>\n",
       "      <td>UNB Libraries Dataverse</td>\n",
       "      <td>https://dataverse.lib.unb.ca/</td>\n",
       "      <td>UNB Dataverse is repository for research data ...</td>\n",
       "    </tr>\n",
       "    <tr>\n",
       "      <th>3</th>\n",
       "      <td>r3d100010261</td>\n",
       "      <td>National Addiction &amp; HIV Data Archive Program</td>\n",
       "      <td>https://www.icpsr.umich.edu/web/pages/NAHDAP/i...</td>\n",
       "      <td>NAHDAP acquires, preserves and disseminates da...</td>\n",
       "    </tr>\n",
       "    <tr>\n",
       "      <th>4</th>\n",
       "      <td>r3d100012074</td>\n",
       "      <td>BindingDB</td>\n",
       "      <td>http://bindingdb.org/bind/index.jsp</td>\n",
       "      <td>BindingDB is a public, web-accessible knowledg...</td>\n",
       "    </tr>\n",
       "  </tbody>\n",
       "</table>\n",
       "</div>"
      ],
      "text/plain": [
       "     re3data_id                                           name  \\\n",
       "0  r3d100012823                                          Vivli   \n",
       "1  r3d100010953                           Polar Data Catalogue   \n",
       "2  r3d100012815                        UNB Libraries Dataverse   \n",
       "3  r3d100010261  National Addiction & HIV Data Archive Program   \n",
       "4  r3d100012074                                      BindingDB   \n",
       "\n",
       "                                                 url  \\\n",
       "0                                 https://vivli.org/   \n",
       "1                          https://www.polardata.ca/   \n",
       "2                      https://dataverse.lib.unb.ca/   \n",
       "3  https://www.icpsr.umich.edu/web/pages/NAHDAP/i...   \n",
       "4                http://bindingdb.org/bind/index.jsp   \n",
       "\n",
       "                                         description  \n",
       "0  Vivli is a non-profit organization working to ...  \n",
       "1  The Polar Data Catalogue is an online database...  \n",
       "2  UNB Dataverse is repository for research data ...  \n",
       "3  NAHDAP acquires, preserves and disseminates da...  \n",
       "4  BindingDB is a public, web-accessible knowledg...  "
      ]
     },
     "execution_count": 7,
     "metadata": {},
     "output_type": "execute_result"
    }
   ],
   "source": [
    "repository_info.head()"
   ]
  }
 ],
 "metadata": {
  "language_info": {
   "name": "python"
  }
 },
 "nbformat": 4,
 "nbformat_minor": 4
}
