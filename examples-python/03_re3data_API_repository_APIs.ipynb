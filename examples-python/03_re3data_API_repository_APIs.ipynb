{
 "cells": [
  {
   "cell_type": "markdown",
   "metadata": {},
   "source": [
    "## Use case 3: Aggregating current API information and general information about repositories (Python)\n",
    "\n",
    "> This notebook is based on the examples written in `R` from Dorothea Strecker's [examples-r/03_re3data_API_repository_APIs.ipynb](https://github.com/re3data/using_the_re3data_API/blob/main/examples-r/03_re3data_API_repository_APIs.ipynb).  \n",
    "> Adapted in `Python` by Heinz-Alexander Fütterer.\n",
    "\n",
    "“As a research data portal, it is important for us to know which repositories offer an API. We would like to aggregate API information, such as API endpoint, API type and general information about the repository.”\n",
    "\n",
    "### Step 1: load packages\n",
    "\n",
    "The package `httpx` includes the HTTP method GET, which will be used to request data from the re3data API. Responses from the redata API are returned in XML. `lxml` includes functions for working with XML, for example parsing or extracting content of specific elements. The `pandas` library is used for storing the responses in a tabular data structure (i.e. a `DataFrame`). It offers useful functions for data manipulation and reshaping as well. `seaborn` is a package for beautiful data visualization.\n",
    "\n",
    "If necessary, install the packages before loading them."
   ]
  },
  {
   "cell_type": "code",
   "execution_count": 1,
   "metadata": {},
   "outputs": [],
   "source": [
    "# !pip install httpx==0.23.0 lxml==4.8.0 pandas==1.4.2 seaborn==0.11.2"
   ]
  },
  {
   "cell_type": "code",
   "execution_count": 2,
   "metadata": {},
   "outputs": [],
   "source": [
    "import datetime\n",
    "import typing\n",
    "\n",
    "import httpx\n",
    "import matplotlib.pyplot as plt\n",
    "import pandas\n",
    "import seaborn\n",
    "from lxml import html\n",
    "\n",
    "seaborn.set_style(\"whitegrid\")"
   ]
  },
  {
   "cell_type": "markdown",
   "metadata": {},
   "source": [
    "### Step 2: obtain URLs for further API queries\n",
    "\n",
    "Information on individual repositories can be extracted using the re3data ID. Therefore, re3data IDs of all repositories indexed in re3data need to be identified first, using the endpoint **/api/v1/repositories**. Details of the re3data APIs are outlined in the [re3data API documentation](https://www.re3data.org/api/doc).\n",
    "\n",
    "The endpoint is queried using **GET**. The XML response is parsed using **read_XML**. XML elements or attributes can be identified using XPath syntax. All elements matching the XPath syntax for finding re3data IDs are identified with **xml_find_all**, and their content is extracted using **xml_text**. The three functions are nested in the example below.\n",
    "\n",
    "The endpoint **/api/v1/repository** provides detailed information about individual repositories that can be accessed via re3data IDs. Therefore, URLs for the next query are created by adding re3data IDs to the base URL."
   ]
  },
  {
   "cell_type": "code",
   "execution_count": 3,
   "metadata": {},
   "outputs": [
    {
     "name": "stdout",
     "output_type": "stream",
     "text": [
      "2872\n"
     ]
    },
    {
     "data": {
      "text/plain": [
       "['https://www.re3data.org/api/beta/repository/r3d100010141',\n",
       " 'https://www.re3data.org/api/beta/repository/r3d100010148',\n",
       " 'https://www.re3data.org/api/beta/repository/r3d100010153',\n",
       " 'https://www.re3data.org/api/beta/repository/r3d100010201',\n",
       " 'https://www.re3data.org/api/beta/repository/r3d100010209']"
      ]
     },
     "execution_count": 3,
     "metadata": {},
     "output_type": "execute_result"
    }
   ],
   "source": [
    "URL = \"https://www.re3data.org/api/beta/repositories\"\n",
    "\n",
    "re3data_response = httpx.get(URL, timeout=60)\n",
    "tree = html.fromstring(re3data_response.content)\n",
    "urls = tree.xpath(\"//@href\")\n",
    "print(len(urls))\n",
    "\n",
    "urls[:5]"
   ]
  },
  {
   "cell_type": "markdown",
   "metadata": {},
   "source": [
    "### Step 3: define what information about the repositories should be requested\n",
    "\n",
    "The function `extract_repository_info()` defined in the following code block points to and extracts the content of specific XML elements and attributes. This function will be used later to extract the specified information from responses of the re3data API. Its basic structure is similar to the process of extracting the URLs outlined in step 2 above.\n",
    "\n",
    "In our Metadata schema, **api** (the API endpoint) is an element with the attribute **apiType**. Please note that one repository can offer multiple APIs, and even several API types.\n",
    "\n",
    "The XPath expressions defined here will extract the re3data IDs, names, URLs, API endpoints and API types in their specific order. Results are stored in a dictionary that can be processed later. Depending on specific use cases, this function can be adapted to extract a different set of elements and attributes. For an overview of the metadata re3data offers, please refer to the documentation of the [re3data Metadata Schema](https://doi.org/10.2312/re3.006) (the API uses version 2.2 of the re3data Metadata Schema)."
   ]
  },
  {
   "cell_type": "code",
   "execution_count": 4,
   "metadata": {},
   "outputs": [],
   "source": [
    "def extract_repository_info(\n",
    "    repository_metadata_xml: html.HtmlElement,\n",
    ") -> typing.Dict[str, typing.Any]:\n",
    "    \"\"\"Extracts wanted metadata elements from a given repository metadata xml representation.\n",
    "\n",
    "    Args:\n",
    "        repository_metadata_xml: XML representation of repository metadata.\n",
    "\n",
    "    Returns:\n",
    "        Dictionary representation of repository metadata.\n",
    "\n",
    "    \"\"\"\n",
    "\n",
    "    namespaces = {\"r3d\": \"http://www.re3data.org/schema/2-2\"}\n",
    "    return {\n",
    "        \"re3data_id\": repository_metadata_xml.xpath(\"//re3data.orgidentifier/text()\", namespaces=namespaces)[0],\n",
    "        \"name\": repository_metadata_xml.xpath(\"//repositoryname/text()\", namespaces=namespaces)[0],\n",
    "        \"url\": repository_metadata_xml.xpath(\"//repositoryurl/text()\", namespaces=namespaces),\n",
    "        \"api\": repository_metadata_xml.xpath(\"//api/text()\", namespaces=namespaces),\n",
    "        \"api_type\": repository_metadata_xml.xpath(\"//@apitype\", namespaces=namespaces),\n",
    "    }"
   ]
  },
  {
   "cell_type": "markdown",
   "metadata": {},
   "source": [
    "### Step 4: gather detailed information about repositories\n",
    "\n",
    "After preparing the list of URLs, the extracting function and the container for results, these components can be put together. The code block below iterates through the list of URLs using a for-loop. For each repository, data is requested from the re3data API using **GET**. The XML response is parsed with **read_xml**. An Xpath expression is used to count how often the element *api* occurs for each repository. If *APICount* is larger than 0, the function **extract_repository_info** is called. The results are then appended as a new row to **repository_info**."
   ]
  },
  {
   "cell_type": "code",
   "execution_count": 5,
   "metadata": {},
   "outputs": [],
   "source": [
    "results = []\n",
    "\n",
    "with httpx.Client() as client:\n",
    "    for i, url in enumerate(urls):\n",
    "        # Uncomment to see progress, every 100th url is printed\n",
    "        # if i % 100 == 0:\n",
    "        #     print(url)\n",
    "\n",
    "        repository_metadata_response = client.get(url, follow_redirects=True)\n",
    "        repository_metadata_xml = html.fromstring(repository_metadata_response.content)\n",
    "        repository_info = extract_repository_info(repository_metadata_xml)\n",
    "\n",
    "        # filter out repositories with no information on APIs\n",
    "        if len(repository_info[\"api\"]) > 0:\n",
    "            results.append(repository_info)"
   ]
  },
  {
   "cell_type": "code",
   "execution_count": 6,
   "metadata": {},
   "outputs": [],
   "source": [
    "repository_info = pandas.DataFrame(results)\n",
    "repository_info = repository_info.apply(pandas.Series.explode)\n",
    "repository_info[\"api_type\"] = repository_info[\"api_type\"].astype(\"category\")\n",
    "repository_info.sort_values(by=\"re3data_id\", inplace=True)"
   ]
  },
  {
   "cell_type": "markdown",
   "metadata": {},
   "source": [
    "### Step 5: Look at the results\n",
    "\n",
    "Results are now stored in `repository_info`. They can be inspected using `.head()` or visualized."
   ]
  },
  {
   "cell_type": "code",
   "execution_count": 7,
   "metadata": {},
   "outputs": [
    {
     "data": {
      "text/html": [
       "<div>\n",
       "<style scoped>\n",
       "    .dataframe tbody tr th:only-of-type {\n",
       "        vertical-align: middle;\n",
       "    }\n",
       "\n",
       "    .dataframe tbody tr th {\n",
       "        vertical-align: top;\n",
       "    }\n",
       "\n",
       "    .dataframe thead th {\n",
       "        text-align: right;\n",
       "    }\n",
       "</style>\n",
       "<table border=\"1\" class=\"dataframe\">\n",
       "  <thead>\n",
       "    <tr style=\"text-align: right;\">\n",
       "      <th></th>\n",
       "      <th>re3data_id</th>\n",
       "      <th>name</th>\n",
       "      <th>url</th>\n",
       "      <th>api</th>\n",
       "      <th>api_type</th>\n",
       "    </tr>\n",
       "  </thead>\n",
       "  <tbody>\n",
       "    <tr>\n",
       "      <th>558</th>\n",
       "      <td>r3d100000002</td>\n",
       "      <td>Access to Archival Databases</td>\n",
       "      <td>https://aad.archives.gov/aad/</td>\n",
       "      <td>https://www.archives.gov/developer#toc-applica...</td>\n",
       "      <td>other</td>\n",
       "    </tr>\n",
       "    <tr>\n",
       "      <th>1209</th>\n",
       "      <td>r3d100000005</td>\n",
       "      <td>UNC Dataverse</td>\n",
       "      <td>https://dataverse.unc.edu/</td>\n",
       "      <td>https://guides.dataverse.org/en/latest/api/nat...</td>\n",
       "      <td>REST</td>\n",
       "    </tr>\n",
       "    <tr>\n",
       "      <th>1209</th>\n",
       "      <td>r3d100000005</td>\n",
       "      <td>UNC Dataverse</td>\n",
       "      <td>https://dataverse.unc.edu/</td>\n",
       "      <td>https://guides.dataverse.org/en/latest/api/swo...</td>\n",
       "      <td>SWORD</td>\n",
       "    </tr>\n",
       "    <tr>\n",
       "      <th>989</th>\n",
       "      <td>r3d100000006</td>\n",
       "      <td>Archaeology Data Service</td>\n",
       "      <td>https://archaeologydataservice.ac.uk/</td>\n",
       "      <td>https://archaeologydataservice.ac.uk/about/met...</td>\n",
       "      <td>OAI-PMH</td>\n",
       "    </tr>\n",
       "    <tr>\n",
       "      <th>989</th>\n",
       "      <td>r3d100000006</td>\n",
       "      <td>Archaeology Data Service</td>\n",
       "      <td>https://archaeologydataservice.ac.uk/</td>\n",
       "      <td>http://data.archaeologydataservice.ac.uk/query/</td>\n",
       "      <td>SPARQL</td>\n",
       "    </tr>\n",
       "  </tbody>\n",
       "</table>\n",
       "</div>"
      ],
      "text/plain": [
       "        re3data_id                          name  \\\n",
       "558   r3d100000002  Access to Archival Databases   \n",
       "1209  r3d100000005                 UNC Dataverse   \n",
       "1209  r3d100000005                 UNC Dataverse   \n",
       "989   r3d100000006      Archaeology Data Service   \n",
       "989   r3d100000006      Archaeology Data Service   \n",
       "\n",
       "                                        url  \\\n",
       "558           https://aad.archives.gov/aad/   \n",
       "1209             https://dataverse.unc.edu/   \n",
       "1209             https://dataverse.unc.edu/   \n",
       "989   https://archaeologydataservice.ac.uk/   \n",
       "989   https://archaeologydataservice.ac.uk/   \n",
       "\n",
       "                                                    api api_type  \n",
       "558   https://www.archives.gov/developer#toc-applica...    other  \n",
       "1209  https://guides.dataverse.org/en/latest/api/nat...     REST  \n",
       "1209  https://guides.dataverse.org/en/latest/api/swo...    SWORD  \n",
       "989   https://archaeologydataservice.ac.uk/about/met...  OAI-PMH  \n",
       "989     http://data.archaeologydataservice.ac.uk/query/   SPARQL  "
      ]
     },
     "execution_count": 7,
     "metadata": {},
     "output_type": "execute_result"
    }
   ],
   "source": [
    "repository_info.head()"
   ]
  },
  {
   "cell_type": "markdown",
   "metadata": {},
   "source": [
    "The example below generates a `seaborn.countplot` from the data. It first groups data by **api_type** and counts how many repositories are in each group, then orders **api_type** by occurrence in descending order. Then, a bar chart of APIs offered by repositories indexed in re3data is generated.\n",
    "Please note that, as mentioned above, **api_type** has an occurrence of 1-n. Some repositories are assigned more than one API type, for example REST and OAI-PMH."
   ]
  },
  {
   "cell_type": "code",
   "execution_count": 8,
   "metadata": {},
   "outputs": [
    {
     "data": {
      "image/png": "[encoded data removed]",
      "text/plain": [
       "<Figure size 720x360 with 1 Axes>"
      ]
     },
     "metadata": {
      "needs_background": "light"
     },
     "output_type": "display_data"
    }
   ],
   "source": [
    "plt.figure(figsize=(10, 5))\n",
    "\n",
    "# generate plot\n",
    "ax = seaborn.countplot(\n",
    "    x=\"api_type\",\n",
    "    data=repository_info,\n",
    "    order=repository_info[\"api_type\"].value_counts().index,\n",
    ")\n",
    "\n",
    "# annotate counts for each bar\n",
    "ax.bar_label(ax.containers[0])\n",
    "\n",
    "today = datetime.date.today()\n",
    "num_repositories = len(repository_info[\"re3data_id\"].unique())\n",
    "\n",
    "# add title\n",
    "ax.set(\n",
    "    title=f\"API types for re3data repositories [number of repositories with at least one API: {num_repositories}, {today}]\"\n",
    ");"
   ]
  }
 ],
 "metadata": {
  "language_info": {
   "name": "python"
  }
 },
 "nbformat": 4,
 "nbformat_minor": 4
}
